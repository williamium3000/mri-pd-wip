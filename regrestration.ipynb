{
 "cells": [
  {
   "cell_type": "code",
   "execution_count": 1,
   "id": "c83e64ff",
   "metadata": {},
   "outputs": [],
   "source": [
    "import os\n",
    "from tqdm import tqdm\n",
    "\n",
    "tool = \"/Users/meililiu/fsl/bin/flirt\"\n",
    "params = \"-bins 256 -cost corratio -searchrx -90 90 -searchry -90 90 -searchrz -90 90 -dof 12  -interp trilinear\""
   ]
  },
  {
   "cell_type": "code",
   "execution_count": 36,
   "id": "7ddbf012",
   "metadata": {},
   "outputs": [],
   "source": [
    "#cmd = '/Users/meililiu/fsl/bin/flirt -in /Users/meililiu/Desktop/Course/medical_image/ARIC/registration/F100601_2018/F100601_20180814132547_15_Research_WIP_SPACE_0.5.nii.gz -ref /Users/meililiu/Desktop/Course/medical_image/ARIC/registration/F100601_2018/F100601_20180814132547_14_PD_SPACE_0.5.nii.gz -out /Users/meililiu/Desktop/Course/medical_image/ARIC/registration/F100601_2018/output -omat /Users/meililiu/Desktop/Course/medical_image/ARIC/registration/F100601_2018/output.mat -bins 256 -cost corratio -searchrx -90 90 -searchry -90 90 -searchrz -90 90 -dof 12  -interp trilinear'\n",
    "\n",
    "#!{cmd}"
   ]
  },
  {
   "cell_type": "code",
   "execution_count": 2,
   "id": "cda9eddc",
   "metadata": {},
   "outputs": [],
   "source": [
    "pdpath = \"/Users/meililiu/Desktop/Course/medical_image/ARIC/pd_wip/pd_nifti\"\n",
    "wippath = \"/Users/meililiu/Desktop/Course/medical_image/ARIC/pd_wip/wip_nifti\"\n",
    "outpath = \"/Users/meililiu/Desktop/Course/medical_image/ARIC/pd_wip/wip_registration_nifti\"\n",
    "omatpath = \"/Users/meililiu/Desktop/Course/medical_image/ARIC/pd_wip/omat_wip_registration\"\n",
    "\n",
    "pdfiles = os.listdir(pdpath)\n",
    "wipfiles = os.listdir(wippath)\n",
    "pdfiles.sort()\n",
    "wipfiles.sort()\n",
    "wipfiles = wipfiles[1:]\n",
    "\n",
    "if not os.path.exists(outpath):\n",
    "    os.mkdir(outpath)\n",
    "\n",
    "if not os.path.exists(omatpath):\n",
    "    os.mkdir(omatpath)"
   ]
  },
  {
   "cell_type": "code",
   "execution_count": 3,
   "id": "f5273c37",
   "metadata": {},
   "outputs": [
    {
     "name": "stderr",
     "output_type": "stream",
     "text": [
      " 73%|███████▎  | 258/352 [3:30:57<1:13:07, 46.68s/it]"
     ]
    },
    {
     "name": "stdout",
     "output_type": "stream",
     "text": [
      "Image Exception : #22 :: Failed to read volume /Users/meililiu/Desktop/Course/medical_image/ARIC/pd_wip/pd_nifti/J314091-20191104_150101_PD_SPACE_0.5_20191104100323_9.nii.gz\r\n",
      "Error : Error: short read, file may be truncated\r\n",
      "Failed to read volume /Users/meililiu/Desktop/Course/medical_image/ARIC/pd_wip/pd_nifti/J314091-20191104_150101_PD_SPACE_0.5_20191104100323_9.nii.gz\r\n",
      "Error : Error: short read, file may be truncated\r\n"
     ]
    },
    {
     "name": "stderr",
     "output_type": "stream",
     "text": [
      "\r",
      " 74%|███████▎  | 259/352 [3:30:57<50:44, 32.74s/it]  "
     ]
    },
    {
     "name": "stdout",
     "output_type": "stream",
     "text": [
      "Image Exception : #22 :: Failed to read volume /Users/meililiu/Desktop/Course/medical_image/ARIC/pd_wip/pd_nifti/J314813-20171205_162737_PD_SPACE_0.5_20171205104343_9.nii.gz\r\n",
      "Error : Error: short read, file may be truncated\r\n",
      "Failed to read volume /Users/meililiu/Desktop/Course/medical_image/ARIC/pd_wip/pd_nifti/J314813-20171205_162737_PD_SPACE_0.5_20171205104343_9.nii.gz\r\n",
      "Error : Error: short read, file may be truncated\r\n"
     ]
    },
    {
     "name": "stderr",
     "output_type": "stream",
     "text": [
      "\r",
      " 74%|███████▍  | 260/352 [3:30:57<35:13, 22.97s/it]"
     ]
    },
    {
     "name": "stdout",
     "output_type": "stream",
     "text": [
      "Image Exception : #22 :: Failed to read volume /Users/meililiu/Desktop/Course/medical_image/ARIC/pd_wip/pd_nifti/J317009-20180612_154245_PD_SPACE_0.5_20180612111738_15.nii.gz\r\n",
      "Error : Error: short read, file may be truncated\r\n",
      "Failed to read volume /Users/meililiu/Desktop/Course/medical_image/ARIC/pd_wip/pd_nifti/J317009-20180612_154245_PD_SPACE_0.5_20180612111738_15.nii.gz\r\n",
      "Error : Error: short read, file may be truncated\r\n"
     ]
    },
    {
     "name": "stderr",
     "output_type": "stream",
     "text": [
      "\r",
      " 74%|███████▍  | 261/352 [3:30:57<24:28, 16.14s/it]"
     ]
    },
    {
     "name": "stdout",
     "output_type": "stream",
     "text": [
      "Image Exception : #22 :: Failed to read volume /Users/meililiu/Desktop/Course/medical_image/ARIC/pd_wip/pd_nifti/J317237-20180807_113236_PD_SPACE_0.5_20180807092537_10.nii.gz\r\n",
      "Error : Error: short read, file may be truncated\r\n",
      "Failed to read volume /Users/meililiu/Desktop/Course/medical_image/ARIC/pd_wip/pd_nifti/J317237-20180807_113236_PD_SPACE_0.5_20180807092537_10.nii.gz\r\n",
      "Error : Error: short read, file may be truncated\r\n"
     ]
    },
    {
     "name": "stderr",
     "output_type": "stream",
     "text": [
      "\r",
      " 74%|███████▍  | 262/352 [3:30:58<17:02, 11.36s/it]"
     ]
    },
    {
     "name": "stdout",
     "output_type": "stream",
     "text": [
      "Image Exception : #22 :: Failed to read volume /Users/meililiu/Desktop/Course/medical_image/ARIC/pd_wip/pd_nifti/J326153-20180109_152739_PD_SPACE_0.5_20180109100134_15.nii.gz\r\n",
      "Error : Error: short read, file may be truncated\r\n",
      "Failed to read volume /Users/meililiu/Desktop/Course/medical_image/ARIC/pd_wip/pd_nifti/J326153-20180109_152739_PD_SPACE_0.5_20180109100134_15.nii.gz\r\n",
      "Error : Error: short read, file may be truncated\r\n"
     ]
    },
    {
     "name": "stderr",
     "output_type": "stream",
     "text": [
      "\r",
      " 75%|███████▍  | 263/352 [3:30:58<11:52,  8.01s/it]"
     ]
    },
    {
     "name": "stdout",
     "output_type": "stream",
     "text": [
      "Image Exception : #22 :: Failed to read volume /Users/meililiu/Desktop/Course/medical_image/ARIC/pd_wip/pd_nifti/J326255-20181218_205735_PD_SPACE_0.5_20181218104512_16.nii.gz\r\n",
      "Error : Error: short read, file may be truncated\r\n",
      "Failed to read volume /Users/meililiu/Desktop/Course/medical_image/ARIC/pd_wip/pd_nifti/J326255-20181218_205735_PD_SPACE_0.5_20181218104512_16.nii.gz\r\n",
      "Error : Error: short read, file may be truncated\r\n"
     ]
    },
    {
     "name": "stderr",
     "output_type": "stream",
     "text": [
      "\r",
      " 75%|███████▌  | 264/352 [3:30:58<08:18,  5.67s/it]"
     ]
    },
    {
     "name": "stdout",
     "output_type": "stream",
     "text": [
      "Image Exception : #22 :: Failed to read volume /Users/meililiu/Desktop/Course/medical_image/ARIC/pd_wip/pd_nifti/J326575-20180717_164739_PD_SPACE_0.5_20180717081012_15.nii.gz\r\n",
      "Error : Error: short read, file may be truncated\r\n",
      "Failed to read volume /Users/meililiu/Desktop/Course/medical_image/ARIC/pd_wip/pd_nifti/J326575-20180717_164739_PD_SPACE_0.5_20180717081012_15.nii.gz\r\n",
      "Error : Error: short read, file may be truncated\r\n"
     ]
    },
    {
     "name": "stderr",
     "output_type": "stream",
     "text": [
      "\r",
      " 75%|███████▌  | 265/352 [3:30:58<05:50,  4.03s/it]"
     ]
    },
    {
     "name": "stdout",
     "output_type": "stream",
     "text": [
      "Image Exception : #22 :: Failed to read volume /Users/meililiu/Desktop/Course/medical_image/ARIC/pd_wip/pd_nifti/J331141-20171010_175755_PD_SPACE_0.5_20171010101912_9.nii.gz\r\n",
      "Error : Error: short read, file may be truncated\r\n",
      "Failed to read volume /Users/meililiu/Desktop/Course/medical_image/ARIC/pd_wip/pd_nifti/J331141-20171010_175755_PD_SPACE_0.5_20171010101912_9.nii.gz\r\n",
      "Error : Error: short read, file may be truncated\r\n"
     ]
    },
    {
     "name": "stderr",
     "output_type": "stream",
     "text": [
      "\r",
      " 76%|███████▌  | 266/352 [3:30:58<04:07,  2.88s/it]"
     ]
    },
    {
     "name": "stdout",
     "output_type": "stream",
     "text": [
      "Image Exception : #22 :: Failed to read volume /Users/meililiu/Desktop/Course/medical_image/ARIC/pd_wip/pd_nifti/J336935-20171212_170737_PD_SPACE_0.5_20171212101738_9.nii.gz\r\n",
      "Error : Error: short read, file may be truncated\r\n",
      "Failed to read volume /Users/meililiu/Desktop/Course/medical_image/ARIC/pd_wip/pd_nifti/J336935-20171212_170737_PD_SPACE_0.5_20171212101738_9.nii.gz\r\n",
      "Error : Error: short read, file may be truncated\r\n"
     ]
    },
    {
     "name": "stderr",
     "output_type": "stream",
     "text": [
      "\r",
      " 76%|███████▌  | 267/352 [3:30:59<02:56,  2.07s/it]"
     ]
    },
    {
     "name": "stdout",
     "output_type": "stream",
     "text": [
      "Image Exception : #22 :: Failed to read volume /Users/meililiu/Desktop/Course/medical_image/ARIC/pd_wip/pd_nifti/J337036-20170905_092751_PD_SPACE_0.5_20170905092751_9.nii.gz\r\n",
      "Error : Error: short read, file may be truncated\r\n",
      "Failed to read volume /Users/meililiu/Desktop/Course/medical_image/ARIC/pd_wip/pd_nifti/J337036-20170905_092751_PD_SPACE_0.5_20170905092751_9.nii.gz\r\n",
      "Error : Error: short read, file may be truncated\r\n"
     ]
    },
    {
     "name": "stderr",
     "output_type": "stream",
     "text": [
      "\r",
      " 76%|███████▌  | 268/352 [3:30:59<02:06,  1.51s/it]"
     ]
    },
    {
     "name": "stdout",
     "output_type": "stream",
     "text": [
      "Image Exception : #22 :: Failed to read volume /Users/meililiu/Desktop/Course/medical_image/ARIC/pd_wip/pd_nifti/J337553-20171107_171736_PD_SPACE_0.5_20171107092808_15.nii.gz\r\n",
      "Error : Error: short read, file may be truncated\r\n",
      "Failed to read volume /Users/meililiu/Desktop/Course/medical_image/ARIC/pd_wip/pd_nifti/J337553-20171107_171736_PD_SPACE_0.5_20171107092808_15.nii.gz\r\n",
      "Error : Error: short read, file may be truncated\r\n"
     ]
    },
    {
     "name": "stderr",
     "output_type": "stream",
     "text": [
      "\r",
      " 76%|███████▋  | 269/352 [3:30:59<01:32,  1.12s/it]"
     ]
    },
    {
     "name": "stdout",
     "output_type": "stream",
     "text": [
      "Image Exception : #22 :: Failed to read volume /Users/meililiu/Desktop/Course/medical_image/ARIC/pd_wip/pd_nifti/J338477-20181127_115740_PD_SPACE_0.5_20181127101217_15.nii.gz\r\n",
      "Error : Error: short read, file may be truncated\r\n",
      "Failed to read volume /Users/meililiu/Desktop/Course/medical_image/ARIC/pd_wip/pd_nifti/J338477-20181127_115740_PD_SPACE_0.5_20181127101217_15.nii.gz\r\n",
      "Error : Error: short read, file may be truncated\r\n"
     ]
    },
    {
     "name": "stderr",
     "output_type": "stream",
     "text": [
      "\r",
      " 77%|███████▋  | 270/352 [3:30:59<01:08,  1.19it/s]"
     ]
    },
    {
     "name": "stdout",
     "output_type": "stream",
     "text": [
      "Image Exception : #22 :: Failed to read volume /Users/meililiu/Desktop/Course/medical_image/ARIC/pd_wip/pd_nifti/J338685-20181016_192744_PD_SPACE_0.5_20181016102205_9.nii.gz\r\n",
      "Error : Error: short read, file may be truncated\r\n",
      "Failed to read volume /Users/meililiu/Desktop/Course/medical_image/ARIC/pd_wip/pd_nifti/J338685-20181016_192744_PD_SPACE_0.5_20181016102205_9.nii.gz\r\n",
      "Error : Error: short read, file may be truncated\r\n"
     ]
    },
    {
     "name": "stderr",
     "output_type": "stream",
     "text": [
      "\r",
      " 77%|███████▋  | 271/352 [3:30:59<00:52,  1.55it/s]"
     ]
    },
    {
     "name": "stdout",
     "output_type": "stream",
     "text": [
      "Image Exception : #22 :: Failed to read volume /Users/meililiu/Desktop/Course/medical_image/ARIC/pd_wip/pd_nifti/J341294-20171024_105736_PD_SPACE_0.5_20171024080208_10.nii.gz\r\n",
      "Error : Error: short read, file may be truncated\r\n",
      "Failed to read volume /Users/meililiu/Desktop/Course/medical_image/ARIC/pd_wip/pd_nifti/J341294-20171024_105736_PD_SPACE_0.5_20171024080208_10.nii.gz\r\n",
      "Error : Error: short read, file may be truncated\r\n"
     ]
    },
    {
     "name": "stderr",
     "output_type": "stream",
     "text": [
      "\r",
      " 77%|███████▋  | 272/352 [3:31:00<00:40,  1.96it/s]"
     ]
    },
    {
     "name": "stdout",
     "output_type": "stream",
     "text": [
      "Image Exception : #22 :: Failed to read volume /Users/meililiu/Desktop/Course/medical_image/ARIC/pd_wip/pd_nifti/J341331-20170912_104257_PD_SPACE_0.5_20170912080355_13.nii.gz\r\n",
      "Error : Error: short read, file may be truncated\r\n",
      "Failed to read volume /Users/meililiu/Desktop/Course/medical_image/ARIC/pd_wip/pd_nifti/J341331-20170912_104257_PD_SPACE_0.5_20170912080355_13.nii.gz\r\n",
      "Error : Error: short read, file may be truncated\r\n"
     ]
    },
    {
     "name": "stderr",
     "output_type": "stream",
     "text": [
      "\r",
      " 78%|███████▊  | 273/352 [3:31:00<00:32,  2.40it/s]"
     ]
    },
    {
     "name": "stdout",
     "output_type": "stream",
     "text": [
      "Image Exception : #22 :: Failed to read volume /Users/meililiu/Desktop/Course/medical_image/ARIC/pd_wip/pd_nifti/J344745-20190115_123318_PD_SPACE_0.5_20190115111045_16.nii.gz\r\n",
      "Error : Error: short read, file may be truncated\r\n",
      "Failed to read volume /Users/meililiu/Desktop/Course/medical_image/ARIC/pd_wip/pd_nifti/J344745-20190115_123318_PD_SPACE_0.5_20190115111045_16.nii.gz\r\n",
      "Error : Error: short read, file may be truncated\r\n"
     ]
    },
    {
     "name": "stderr",
     "output_type": "stream",
     "text": [
      "\r",
      " 78%|███████▊  | 274/352 [3:31:00<00:27,  2.86it/s]"
     ]
    },
    {
     "name": "stdout",
     "output_type": "stream",
     "text": [
      "Image Exception : #22 :: Failed to read volume /Users/meililiu/Desktop/Course/medical_image/ARIC/pd_wip/pd_nifti/J346670-20180619_093243_PD_SPACE_0.5_20180619092954_18.nii.gz\r\n",
      "Error : Error: short read, file may be truncated\r\n",
      "Failed to read volume /Users/meililiu/Desktop/Course/medical_image/ARIC/pd_wip/pd_nifti/J346670-20180619_093243_PD_SPACE_0.5_20180619092954_18.nii.gz\r\n",
      "Error : Error: short read, file may be truncated\r\n"
     ]
    },
    {
     "name": "stderr",
     "output_type": "stream",
     "text": [
      "\r",
      " 78%|███████▊  | 275/352 [3:31:00<00:23,  3.31it/s]"
     ]
    },
    {
     "name": "stdout",
     "output_type": "stream",
     "text": [
      "Image Exception : #22 :: Failed to read volume /Users/meililiu/Desktop/Course/medical_image/ARIC/pd_wip/pd_nifti/J346688-20190528_151646_PD_SPACE_0.5_20190528074202_17.nii.gz\r\n",
      "Error : Error: short read, file may be truncated\r\n",
      "Failed to read volume /Users/meililiu/Desktop/Course/medical_image/ARIC/pd_wip/pd_nifti/J346688-20190528_151646_PD_SPACE_0.5_20190528074202_17.nii.gz\r\n",
      "Error : Error: short read, file may be truncated\r\n"
     ]
    },
    {
     "name": "stderr",
     "output_type": "stream",
     "text": [
      "\r",
      " 78%|███████▊  | 276/352 [3:31:00<00:20,  3.71it/s]"
     ]
    },
    {
     "name": "stdout",
     "output_type": "stream",
     "text": [
      "Image Exception : #22 :: Failed to read volume /Users/meililiu/Desktop/Course/medical_image/ARIC/pd_wip/pd_nifti/J349817-20180410_223738_PD_SPACE_0.5_20180410103633_15.nii.gz\r\n",
      "Error : Error: short read, file may be truncated\r\n",
      "Failed to read volume /Users/meililiu/Desktop/Course/medical_image/ARIC/pd_wip/pd_nifti/J349817-20180410_223738_PD_SPACE_0.5_20180410103633_15.nii.gz\r\n",
      "Error : Error: short read, file may be truncated\r\n"
     ]
    },
    {
     "name": "stderr",
     "output_type": "stream",
     "text": [
      "\r",
      " 79%|███████▊  | 277/352 [3:31:01<00:18,  4.04it/s]"
     ]
    },
    {
     "name": "stdout",
     "output_type": "stream",
     "text": [
      "Image Exception : #22 :: Failed to read volume /Users/meililiu/Desktop/Course/medical_image/ARIC/pd_wip/pd_nifti/M102321-20190521_114613_PD_SPACE_0.5_20190521101026_13.nii.gz\r\n",
      "Error : Error: short read, file may be truncated\r\n",
      "Failed to read volume /Users/meililiu/Desktop/Course/medical_image/ARIC/pd_wip/pd_nifti/M102321-20190521_114613_PD_SPACE_0.5_20190521101026_13.nii.gz\r\n",
      "Error : Error: short read, file may be truncated\r\n"
     ]
    },
    {
     "name": "stderr",
     "output_type": "stream",
     "text": [
      "\r",
      " 79%|███████▉  | 278/352 [3:31:01<00:17,  4.30it/s]"
     ]
    },
    {
     "name": "stdout",
     "output_type": "stream",
     "text": [
      "Image Exception : #22 :: Failed to read volume /Users/meililiu/Desktop/Course/medical_image/ARIC/pd_wip/pd_nifti/M124577-20190418_154636_PD_SPACE_0.5_20190418141715_9.nii.gz\r\n",
      "Error : Error: short read, file may be truncated\r\n",
      "Failed to read volume /Users/meililiu/Desktop/Course/medical_image/ARIC/pd_wip/pd_nifti/M124577-20190418_154636_PD_SPACE_0.5_20190418141715_9.nii.gz\r\n",
      "Error : Error: short read, file may be truncated\r\n"
     ]
    },
    {
     "name": "stderr",
     "output_type": "stream",
     "text": [
      "\r",
      " 79%|███████▉  | 279/352 [3:31:01<00:16,  4.49it/s]"
     ]
    },
    {
     "name": "stdout",
     "output_type": "stream",
     "text": [
      "Image Exception : #22 :: Failed to read volume /Users/meililiu/Desktop/Course/medical_image/ARIC/pd_wip/pd_nifti/M128940-20181030_112318_PD_SPACE_0.5_20181030095503_16.nii.gz\r\n",
      "Error : Error: short read, file may be truncated\r\n",
      "Failed to read volume /Users/meililiu/Desktop/Course/medical_image/ARIC/pd_wip/pd_nifti/M128940-20181030_112318_PD_SPACE_0.5_20181030095503_16.nii.gz\r\n",
      "Error : Error: short read, file may be truncated\r\n"
     ]
    },
    {
     "name": "stderr",
     "output_type": "stream",
     "text": [
      "\r",
      " 80%|███████▉  | 280/352 [3:31:01<00:15,  4.66it/s]"
     ]
    },
    {
     "name": "stdout",
     "output_type": "stream",
     "text": [
      "Image Exception : #22 :: Failed to read volume /Users/meililiu/Desktop/Course/medical_image/ARIC/pd_wip/pd_nifti/M133061-20190318_133108_PD_SPACE_0.5_20190318120503_11.nii.gz\r\n",
      "Error : Error: short read, file may be truncated\r\n",
      "Failed to read volume /Users/meililiu/Desktop/Course/medical_image/ARIC/pd_wip/pd_nifti/M133061-20190318_133108_PD_SPACE_0.5_20190318120503_11.nii.gz\r\n",
      "Error : Error: short read, file may be truncated\r\n"
     ]
    },
    {
     "name": "stderr",
     "output_type": "stream",
     "text": [
      "\r",
      " 80%|███████▉  | 281/352 [3:31:01<00:14,  4.81it/s]"
     ]
    },
    {
     "name": "stdout",
     "output_type": "stream",
     "text": [
      "Image Exception : #22 :: Failed to read volume /Users/meililiu/Desktop/Course/medical_image/ARIC/pd_wip/pd_nifti/M134227-20190416_150119_PD_SPACE_0.5_20190416115231_11.nii.gz\r\n",
      "Error : Error: short read, file may be truncated\r\n",
      "Failed to read volume /Users/meililiu/Desktop/Course/medical_image/ARIC/pd_wip/pd_nifti/M134227-20190416_150119_PD_SPACE_0.5_20190416115231_11.nii.gz\r\n",
      "Error : Error: short read, file may be truncated\r\n"
     ]
    },
    {
     "name": "stderr",
     "output_type": "stream",
     "text": [
      "\r",
      " 80%|████████  | 282/352 [3:31:02<00:14,  4.87it/s]"
     ]
    },
    {
     "name": "stdout",
     "output_type": "stream",
     "text": [
      "Image Exception : #22 :: Failed to read volume /Users/meililiu/Desktop/Course/medical_image/ARIC/pd_wip/pd_nifti/M136100-20181120_110819_PD_SPACE_0.5_20181120094259_14.nii.gz\r\n",
      "Error : Error: short read, file may be truncated\r\n",
      "Failed to read volume /Users/meililiu/Desktop/Course/medical_image/ARIC/pd_wip/pd_nifti/M136100-20181120_110819_PD_SPACE_0.5_20181120094259_14.nii.gz\r\n",
      "Error : Error: short read, file may be truncated\r\n"
     ]
    },
    {
     "name": "stderr",
     "output_type": "stream",
     "text": [
      "100%|██████████| 352/352 [4:23:38<00:00, 44.94s/it]\n"
     ]
    }
   ],
   "source": [
    "for i in tqdm(range(len(pdfiles))):\n",
    "\n",
    "    pdname = pdfiles[i]\n",
    "    wipname = wipfiles[i]\n",
    "    #assert patient name are the same\n",
    "    assert pdname.split(\"_\")[0] == wipname.split(\"_\")[0], \"not the same patient\"\n",
    "    inp = os.path.join(wippath,wipname)\n",
    "    ref = os.path.join(pdpath,pdname)\n",
    "    outname = wipname.split(\".\")[0]+\"_registration\"\n",
    "    out = os.path.join(outpath,outname)\n",
    "    omatname = outname+\".mat\"\n",
    "    omat = os.path.join(omatpath,omatname)\n",
    "    \n",
    "    cmd = tool + \" -in \" +inp +\" -ref \" + ref + \" -out \" +out +\" -omat \" + omat + \" \"+params\n",
    "    try:\n",
    "        !{cmd}\n",
    "    except:\n",
    "        print(pdname)\n",
    "    \n",
    "    \n",
    "    \n",
    "    "
   ]
  },
  {
   "cell_type": "code",
   "execution_count": 6,
   "id": "0b1ec912",
   "metadata": {},
   "outputs": [
    {
     "name": "stdout",
     "output_type": "stream",
     "text": [
      "zsh:1: no matches found: /Users/meililiu/Desktop/Course/medical_image/ARIC/pd_wip/pd_nifti/.DS*\n",
      "zsh:1: no matches found: /Users/meililiu/Desktop/Course/medical_image/ARIC/pd_wip/pd_nifti/J245980-20170926*\n"
     ]
    }
   ],
   "source": [
    "# after regirsration, some images cannot bo opened, thus, total 327 images left\n",
    "pdpath = \"/Users/meililiu/Desktop/Course/medical_image/ARIC/pd_wip/pd_nifti\"\n",
    "newpdpath = \"/Users/meililiu/Desktop/Course/medical_image/ARIC/pd_wip/pd_nifti_final\"\n",
    "regpath = \"/Users/meililiu/Desktop/Course/medical_image/ARIC/pd_wip/wip_registration_nifti\"\n",
    "regfiles = os.listdir(regpath)\n",
    "\n",
    "for reg in regfiles:\n",
    "    id = reg.split('_')[0]\n",
    "    pdname = os.path.join(pdpath, id+'*')\n",
    "    cmd = \"mv \"+ pdname + \" \" + newpdpath\n",
    "    #print(cmd)\n",
    "    !{cmd}\n",
    "    "
   ]
  },
  {
   "cell_type": "code",
   "execution_count": 7,
   "id": "4c9c316a",
   "metadata": {},
   "outputs": [
    {
     "name": "stdout",
     "output_type": "stream",
     "text": [
      "zsh:1: no matches found: /Users/meililiu/Desktop/Course/medical_image/ARIC/pd_wip/pd_nifti_final/J245980-20170926*\r\n"
     ]
    }
   ],
   "source": [
    "# for those registration fail image, move them to the file folder\n",
    "pdpath = \"/Users/meililiu/Desktop/Course/medical_image/ARIC/pd_wip/pd_nifti_final\"\n",
    "newpdpath = \"/Users/meililiu/Desktop/Course/medical_image/ARIC/pd_wip/pd_nifti_fail\"\n",
    "regpath = \"/Users/meililiu/Desktop/Course/medical_image/ARIC/pd_wip/wip_registration_fail\"\n",
    "regfiles = os.listdir(regpath)\n",
    "\n",
    "for reg in regfiles:\n",
    "    id = reg.split('_')[0]\n",
    "    pdname = os.path.join(pdpath, id+'*')\n",
    "    cmd = \"mv \"+ pdname + \" \" + newpdpath\n",
    "    #print(cmd)\n",
    "    !{cmd}"
   ]
  },
  {
   "cell_type": "code",
   "execution_count": 8,
   "id": "748df924",
   "metadata": {},
   "outputs": [],
   "source": [
    "# split the data into train part and test part\n",
    "pdpath = \"/Users/meililiu/Desktop/Course/medical_image/ARIC/pd_wip/wip_registration_nifti/train\"\n",
    "newpdpath = \"/Users/meililiu/Desktop/Course/medical_image/ARIC/pd_wip/wip_registration_nifti/test\"\n",
    "regpath = \"/Users/meililiu/Desktop/Course/medical_image/ARIC/pd_wip/pd_nifti_final/test\"\n",
    "regfiles = os.listdir(regpath)\n",
    "\n",
    "for reg in regfiles:\n",
    "    id = reg.split('_')[0]\n",
    "    pdname = os.path.join(pdpath, id+'*')\n",
    "    cmd = \"mv \"+ pdname + \" \" + newpdpath\n",
    "    #print(cmd)\n",
    "    !{cmd}"
   ]
  },
  {
   "cell_type": "code",
   "execution_count": 31,
   "id": "73cb30f3",
   "metadata": {},
   "outputs": [
    {
     "name": "stdout",
     "output_type": "stream",
     "text": [
      "3\n"
     ]
    }
   ],
   "source": [
    "def countPalindromes(s: str) -> int:\n",
    "    mod, n, ans = 10 ** 9 + 7, len(s), 0\n",
    "    pre = [[[0] * 2 for _ in range(2)] for _ in range(n)]\n",
    "    cnts = [0] * 2\n",
    "    for i in range(n):\n",
    "        c = ord(s[i]) - ord('0')\n",
    "        if i:\n",
    "            for j in range(2):\n",
    "                for k in range(2):\n",
    "                    pre[i][j][k] = pre[i - 1][j][k] \n",
    "                    if k == c: pre[i][j][k] += cnts[j]\n",
    "        cnts[c] += 1\n",
    "    suf = [[[0] * 2 for _ in range(2)] for _ in range(n)]\n",
    "    cnts = [0] * 2\n",
    "    for i in range(n - 1, -1, -1):\n",
    "        c = ord(s[i]) - ord('0')\n",
    "        if i < n - 1:\n",
    "            for j in range(2):\n",
    "                for k in range(2):\n",
    "                    suf[i][j][k] = suf[i + 1][j][k]\n",
    "                    if k == c: suf[i][j][k] += cnts[j]\n",
    "        cnts[c] += 1\n",
    "    for i in range(2, n - 2):\n",
    "        for j in range(2):\n",
    "            for k in range(2):\n",
    "                ans += pre[i - 1][j][k] * suf[i + 1][j][k]\n",
    "    return ans % mod\n",
    "s = '010110'\n",
    "print(countPalindromes(s))"
   ]
  }
 ],
 "metadata": {
  "kernelspec": {
   "display_name": "Python 3",
   "language": "python",
   "name": "python3"
  },
  "language_info": {
   "codemirror_mode": {
    "name": "ipython",
    "version": 3
   },
   "file_extension": ".py",
   "mimetype": "text/x-python",
   "name": "python",
   "nbconvert_exporter": "python",
   "pygments_lexer": "ipython3",
   "version": "3.8.8"
  }
 },
 "nbformat": 4,
 "nbformat_minor": 5
}
